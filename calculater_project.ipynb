{
 "cells": [
  {
   "cell_type": "code",
   "execution_count": null,
   "id": "be1a996a",
   "metadata": {},
   "outputs": [
    {
     "ename": "",
     "evalue": "",
     "output_type": "error",
     "traceback": [
      "\u001b[1;31mFailed to start the Kernel. \n",
      "\u001b[1;31mzmq.error.ZMQError: Address in use (addr='tcp://127.0.0.1:9002'). \n",
      "\u001b[1;31mView Jupyter <a href='command:jupyter.viewOutput'>log</a> for further details."
     ]
    }
   ],
   "source": [
    "\n",
    "def calculator(): #function definition with zero parameter\n",
    "    print(\"standard calculator\")\n",
    "    try:\n",
    "        while True:\n",
    "            operator = input(\"Enter the operater[+,-,*,/,**and exit] \").strip().lower()\n",
    "            if operator == \"exit\":\n",
    "                 print(\"exiting the calculator\")\n",
    "                 break\n",
    "            list_op = ['+','-','/','*','**']\n",
    "            if operator not in list_op:\n",
    "               print(\"plrease enter the correct operator!\")\n",
    "               continue\n",
    "        #End of    operator module\n",
    "\n",
    "        #Beginning of number mdule\n",
    "\n",
    "        numbers = []\n",
    "        while True:\n",
    "            number = input(\"please enter the number or = sign in order to calculate\")\n",
    "            if number.lower() == \"=\":\n",
    "                    if len(number)<2:\n",
    "                        print(\"Enter atleast 2 numbers\")\n",
    "                        continue\n",
    "            break\n",
    "            try:\n",
    "                num = float(number)\n",
    "                numbers.append(num)\n",
    "            except ValueError:\n",
    "                print(\"please enter the number only!\")\n",
    "                continue\n",
    "            #End of number module\n",
    "\n",
    "            #beginning of arthimetic operation\n",
    "        if operator == \"+\":\n",
    "            result = number[0]\n",
    "            for number in numbers[1:]:\n",
    "                result = result + number\n",
    "            print(\" + \".join(map(str,number) + f\" = {result}\"))\n",
    "        \n",
    "        elif operator == \"*\":\n",
    "            result = number[0]\n",
    "            for number in numbers[1:]:\n",
    "                result = result + number\n",
    "            print(\" * \".join(map(str,number) * f\" = {result}\")) \n",
    "        elif operator == \"-\":\n",
    "             result = number[0]\n",
    "    for number in numbers[1:]:\n",
    "                result = result - number\n",
    "    print(\" - \".join(map(str,number) + f\" = {result}\")) \n",
    "         \n",
    "        elif operator == \"/\":\n",
    "            result = number[0]\n",
    "            try:\n",
    "                for number in numbers[1:]:\n",
    "                    if number ==0:\n",
    "                        raise ZeroDivisionError()\n",
    "                result = result/number\n",
    "                print(\" / \".join(map(str,number) + f\" = {result}\")) \n",
    "             except ZeroDivisionError:\n",
    "                 print(\"Denominater can't be Zero\")\n",
    "            elif operator == \"**\":\n",
    "        result = number[0]\n",
    " for number in numbers[1:]:\n",
    "                    result = result ** number\n",
    "                    print(\" ** \".join(map(str, number)) + f\" =(result)\")\n",
    "\n",
    "    except Exception as e:\n",
    "            print(f\"invalid operation! {e}\")\n",
    "        print(\"Developed By : hawlet\")\n",
    "calculator()"
   ]
  }
 ],
 "metadata": {
  "kernelspec": {
   "display_name": "Python 3",
   "language": "python",
   "name": "python3"
  },
  "language_info": {
   "codemirror_mode": {
    "name": "ipython",
    "version": 3
   },
   "file_extension": ".py",
   "mimetype": "text/x-python",
   "name": "python",
   "nbconvert_exporter": "python",
   "pygments_lexer": "ipython3",
   "version": "3.13.5"
  }
 },
 "nbformat": 4,
 "nbformat_minor": 5
}
